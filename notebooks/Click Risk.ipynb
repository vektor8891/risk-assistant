{
 "cells": [
  {
   "cell_type": "markdown",
   "id": "8d118dee",
   "metadata": {},
   "source": [
    "# Phishing Emails\n",
    "\n",
    "- Companies can incur loss when their employees click on phishing emails.\n",
    "- The below simulation attempts to estimate the total loss using [Monte Carlo simulation](https://www.ibm.com/topics/monte-carlo-simulation).\n",
    "\n",
    "## Instructions\n",
    "To run the simulation, select **Cell / Run All** from the top menu. Once the inputs appear, please provide the following parameters:\n",
    "\n",
    "1. **Employees**: how many employees does the company have?\n",
    "1. **Time horizon**: for how many year do we want to run the simulation?\n",
    "1. **Phishing emails per week**: on average, how many phishing email do we expect each employee receives per week?\n",
    "1. **Click rate (%)**: on average, what percentage of phishing emails do employees click on?\n",
    "1. **Loss per click (USD)**: on average, how many dollars will the company loose if an employee clicks on a phishing email?\n",
    "\n",
    "After selecting the value for each parameter, click on the **\"Run Simulation\"** button.\n",
    "   \n",
    "## Results\n",
    "- By default, the simulation consists of 1000 scenarios.\n",
    "- In each scenario, we calculate the total loss for the company.\n",
    "- The output of the simulation is a [histogram](https://asq.org/quality-resources/histogram) that shows which values were most frequent in the simulation."
   ]
  },
  {
   "cell_type": "code",
   "execution_count": 1,
   "id": "e6e49dd4",
   "metadata": {},
   "outputs": [
    {
     "data": {
      "application/vnd.jupyter.widget-view+json": {
       "model_id": "1230b02814064e7b9fda532eaea1e610",
       "version_major": 2,
       "version_minor": 0
      },
      "text/plain": [
       "IntText(value=100, description='Employees:', style=DescriptionStyle(description_width='initial'))"
      ]
     },
     "metadata": {},
     "output_type": "display_data"
    },
    {
     "data": {
      "application/vnd.jupyter.widget-view+json": {
       "model_id": "122461968b5b4d8ba31d74bd2e0c3d08",
       "version_major": 2,
       "version_minor": 0
      },
      "text/plain": [
       "IntSlider(value=1, description='Time horizon (years):', max=10, min=1, style=SliderStyle(description_width='in…"
      ]
     },
     "metadata": {},
     "output_type": "display_data"
    },
    {
     "data": {
      "application/vnd.jupyter.widget-view+json": {
       "model_id": "cc76d62146f0498ab989d8f6efb50a2a",
       "version_major": 2,
       "version_minor": 0
      },
      "text/plain": [
       "IntSlider(value=1, description='Phishing emails per week:', max=10, min=1, style=SliderStyle(description_width…"
      ]
     },
     "metadata": {},
     "output_type": "display_data"
    },
    {
     "data": {
      "application/vnd.jupyter.widget-view+json": {
       "model_id": "695141bb3f6d44b0847da72bf1ee3272",
       "version_major": 2,
       "version_minor": 0
      },
      "text/plain": [
       "IntSlider(value=10, description='Click rate (%):', step=5, style=SliderStyle(description_width='initial'))"
      ]
     },
     "metadata": {},
     "output_type": "display_data"
    },
    {
     "data": {
      "application/vnd.jupyter.widget-view+json": {
       "model_id": "0ae3e825c4dc4c3e9ccc5bc8a0cb7caf",
       "version_major": 2,
       "version_minor": 0
      },
      "text/plain": [
       "IntText(value=1000, description='Loss per click (USD):', style=DescriptionStyle(description_width='initial'))"
      ]
     },
     "metadata": {},
     "output_type": "display_data"
    },
    {
     "data": {
      "application/vnd.jupyter.widget-view+json": {
       "model_id": "ddbb5f3b67ab4292b71ea6441d360288",
       "version_major": 2,
       "version_minor": 0
      },
      "text/plain": [
       "Button(button_style='info', description='Run Simulation', style=ButtonStyle())"
      ]
     },
     "metadata": {},
     "output_type": "display_data"
    },
    {
     "data": {
      "application/vnd.jupyter.widget-view+json": {
       "model_id": "eec8d77883fc4f0db36c9ca84b6f1520",
       "version_major": 2,
       "version_minor": 0
      },
      "text/plain": [
       "Output()"
      ]
     },
     "metadata": {},
     "output_type": "display_data"
    }
   ],
   "source": [
    "import simulate\n",
    "simulate.phishing_risk()"
   ]
  }
 ],
 "metadata": {
  "kernelspec": {
   "display_name": "Python 3 (ipykernel)",
   "language": "python",
   "name": "python3"
  },
  "language_info": {
   "codemirror_mode": {
    "name": "ipython",
    "version": 3
   },
   "file_extension": ".py",
   "mimetype": "text/x-python",
   "name": "python",
   "nbconvert_exporter": "python",
   "pygments_lexer": "ipython3",
   "version": "3.11.2"
  },
  "varInspector": {
   "cols": {
    "lenName": 16,
    "lenType": 16,
    "lenVar": 40
   },
   "kernels_config": {
    "python": {
     "delete_cmd_postfix": "",
     "delete_cmd_prefix": "del ",
     "library": "var_list.py",
     "varRefreshCmd": "print(var_dic_list())"
    },
    "r": {
     "delete_cmd_postfix": ") ",
     "delete_cmd_prefix": "rm(",
     "library": "var_list.r",
     "varRefreshCmd": "cat(var_dic_list()) "
    }
   },
   "types_to_exclude": [
    "module",
    "function",
    "builtin_function_or_method",
    "instance",
    "_Feature"
   ],
   "window_display": false
  }
 },
 "nbformat": 4,
 "nbformat_minor": 5
}
