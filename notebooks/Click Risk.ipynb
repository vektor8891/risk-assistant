{
 "cells": [
  {
   "cell_type": "markdown",
   "id": "6c4cbd7b",
   "metadata": {},
   "source": [
    "# Phishing Emails\n",
    "\n",
    "- Companies can incur loss when their employees click on phishing emails.\n",
    "- The below simulation attempts to estimate the total loss using [Monte Carlo simulation](https://www.ibm.com/topics/monte-carlo-simulation).\n",
    "\n",
    "## Instructions\n",
    "To run the simulation, select **Cell / Run All** from the top menu. Once the inputs appear, please provide the following parameters:\n",
    "\n",
    "1. **Employees**: how many employees does the company have?\n",
    "1. **Time horizon**: for how many year do we want to run the simulation?\n",
    "1. **Phishing emails per week**: on average, how many phishing email do we expect each employee receives per week?\n",
    "1. **Click rate (%)**: on average, what percentage of phishing emails do employees click on?\n",
    "1. **Loss per click (USD)**: on average, how many dollars will the company loose if an employee clicks on a phishing email?\n",
    "\n",
    "After selecting the value for each parameter, click on the **\"Run Simulation\"** button.\n",
    "    \n",
    "## Results\n",
    "- By default, the simulation consists of 1000 scenarios.\n",
    "- In each scenario, we calculate the total loss for the company.\n",
    "- The output of the simulation is a [histogram](https://asq.org/quality-resources/histogram) that shows which values were most frequent in the simulation."
   ]
  },
  {
   "cell_type": "code",
   "execution_count": 2,
   "id": "1280d8e0",
   "metadata": {
    "scrolled": false
   },
   "outputs": [
    {
     "data": {
      "text/html": [
       "\n",
       "    <style>\n",
       "    .loader {\n",
       "      border: 16px solid #f3f3f3;\n",
       "      border-top: 16px solid #3498db;\n",
       "      border-radius: 50%;\n",
       "      width: 120px;\n",
       "      height: 120px;\n",
       "      animation: spin 2s linear infinite;\n",
       "      margin: auto;\n",
       "      margin-top: 20px;\n",
       "    }\n",
       "\n",
       "    @keyframes spin {\n",
       "      0% { transform: rotate(0deg); }\n",
       "      100% { transform: rotate(360deg); }\n",
       "    }\n",
       "    </style>\n",
       "    "
      ],
      "text/plain": [
       "<IPython.core.display.HTML object>"
      ]
     },
     "metadata": {},
     "output_type": "display_data"
    },
    {
     "data": {
      "application/vnd.jupyter.widget-view+json": {
       "model_id": "26b32ec75f7b4e81aebef7bc0ddce12e",
       "version_major": 2,
       "version_minor": 0
      },
      "text/plain": [
       "IntText(value=100, description='Employees:', style=DescriptionStyle(description_width='initial'))"
      ]
     },
     "metadata": {},
     "output_type": "display_data"
    },
    {
     "data": {
      "application/vnd.jupyter.widget-view+json": {
       "model_id": "f436c0cc96b14ee49e62a6916aca7c37",
       "version_major": 2,
       "version_minor": 0
      },
      "text/plain": [
       "IntSlider(value=1, description='Time horizon (years):', max=10, min=1, style=SliderStyle(description_width='in…"
      ]
     },
     "metadata": {},
     "output_type": "display_data"
    },
    {
     "data": {
      "application/vnd.jupyter.widget-view+json": {
       "model_id": "3a51cb88f22940e785137894f0e79384",
       "version_major": 2,
       "version_minor": 0
      },
      "text/plain": [
       "IntSlider(value=1, description='Phishing emails per week:', max=10, min=1, style=SliderStyle(description_width…"
      ]
     },
     "metadata": {},
     "output_type": "display_data"
    },
    {
     "data": {
      "application/vnd.jupyter.widget-view+json": {
       "model_id": "befc106bfd384223bf955e82aa07f579",
       "version_major": 2,
       "version_minor": 0
      },
      "text/plain": [
       "IntSlider(value=10, description='Click rate (%):', step=5, style=SliderStyle(description_width='initial'))"
      ]
     },
     "metadata": {},
     "output_type": "display_data"
    },
    {
     "data": {
      "application/vnd.jupyter.widget-view+json": {
       "model_id": "f909ea248947492db7bc56f6af592f76",
       "version_major": 2,
       "version_minor": 0
      },
      "text/plain": [
       "IntText(value=1000, description='Loss per click (USD):', style=DescriptionStyle(description_width='initial'))"
      ]
     },
     "metadata": {},
     "output_type": "display_data"
    },
    {
     "data": {
      "application/vnd.jupyter.widget-view+json": {
       "model_id": "e2af4d646e0a47e28fb7437dc25230f8",
       "version_major": 2,
       "version_minor": 0
      },
      "text/plain": [
       "Button(button_style='info', description='Run Simulation', style=ButtonStyle())"
      ]
     },
     "metadata": {},
     "output_type": "display_data"
    }
   ],
   "source": [
    "import simulate\n",
    "simulate.phishing_risk()"
   ]
  }
 ],
 "metadata": {
  "kernelspec": {
   "display_name": "Python 3 (ipykernel)",
   "language": "python",
   "name": "python3"
  },
  "language_info": {
   "codemirror_mode": {
    "name": "ipython",
    "version": 3
   },
   "file_extension": ".py",
   "mimetype": "text/x-python",
   "name": "python",
   "nbconvert_exporter": "python",
   "pygments_lexer": "ipython3",
   "version": "3.11.2"
  },
  "varInspector": {
   "cols": {
    "lenName": 16,
    "lenType": 16,
    "lenVar": 40
   },
   "kernels_config": {
    "python": {
     "delete_cmd_postfix": "",
     "delete_cmd_prefix": "del ",
     "library": "var_list.py",
     "varRefreshCmd": "print(var_dic_list())"
    },
    "r": {
     "delete_cmd_postfix": ") ",
     "delete_cmd_prefix": "rm(",
     "library": "var_list.r",
     "varRefreshCmd": "cat(var_dic_list()) "
    }
   },
   "types_to_exclude": [
    "module",
    "function",
    "builtin_function_or_method",
    "instance",
    "_Feature"
   ],
   "window_display": false
  }
 },
 "nbformat": 4,
 "nbformat_minor": 5
}
