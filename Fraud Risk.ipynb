{
 "cells": [
  {
   "cell_type": "code",
   "execution_count": 14,
   "id": "835154bf",
   "metadata": {},
   "outputs": [],
   "source": [
    "# How many employees does the company have?\n",
    "employees = 100\n",
    "\n",
    "# How many days are we calculating the loss?\n",
    "days = 365\n",
    "\n",
    "# On average how many emails does each employee receive weekly?\n",
    "phishing_emails_per_week = 1\n",
    "\n",
    "# How many of the phishing emails do employees click?\n",
    "click_rate = 0.1\n",
    "\n",
    "# How much money do we expect to lose with each click?\n",
    "loss_per_click = 1000"
   ]
  },
  {
   "cell_type": "code",
   "execution_count": 20,
   "id": "cba0237e",
   "metadata": {},
   "outputs": [
    {
     "name": "stdout",
     "output_type": "stream",
     "text": [
      "    Event Time\n",
      "0     3.284877\n",
      "1    24.355727\n",
      "2    33.572947\n",
      "3    39.963544\n",
      "4    41.150918\n",
      "5    42.338093\n",
      "6    42.756964\n",
      "7    56.835580\n",
      "8    63.269155\n",
      "9    71.887905\n",
      "10   72.033501\n",
      "11   96.558403\n",
      "12  109.063410\n",
      "13  110.734223\n",
      "14  112.138976\n",
      "15  113.557256\n",
      "16  116.096532\n",
      "17  121.304027\n",
      "18  125.262786\n",
      "19  127.672347\n",
      "20  134.296943\n",
      "21  135.348585\n",
      "22  137.767194\n",
      "23  140.961134\n",
      "24  145.223677\n",
      "25  155.989229\n",
      "26  157.548380\n",
      "27  162.602584\n",
      "28  168.885117\n",
      "29  169.218064\n",
      "30  175.765395\n",
      "31  177.074124\n",
      "32  177.544972\n",
      "33  198.360786\n",
      "34  221.955199\n",
      "35  233.521520\n",
      "36  236.064535\n",
      "37  236.783976\n",
      "38  244.853231\n",
      "39  248.913867\n",
      "40  249.824933\n",
      "41  254.609763\n",
      "42  254.854719\n",
      "43  271.657680\n",
      "44  273.753884\n",
      "45  281.357675\n",
      "46  283.972501\n",
      "47  289.111277\n",
      "48  294.649844\n",
      "49  296.080564\n",
      "50  320.530214\n",
      "51  330.975931\n"
     ]
    }
   ],
   "source": [
    "import pandas as pd\n",
    "import numpy as np\n",
    "\n",
    "# Number of simulations\n",
    "simulations = 1000\n",
    "\n",
    "# Set the random seed for reproducibility\n",
    "np.random.seed(42)\n",
    "\n",
    "# Define the parameters for the Poisson process\n",
    "lambda_ = phishing_emails_per_week / 7  # convert rate to days\n",
    "total_time = days  # Total time for the process\n",
    "\n",
    "# Generate the time intervals between events\n",
    "time_intervals = np.random.exponential(scale=1/lambda_, size=int(lambda_ * total_time))\n",
    "\n",
    "# Calculate the cumulative sum of time intervals to get event times\n",
    "event_times = np.cumsum(time_intervals)\n",
    "\n",
    "# Create a pandas DataFrame to store the event times\n",
    "df = pd.DataFrame({'Event Time': event_times})\n",
    "\n",
    "# Display the DataFrame\n",
    "print(df)"
   ]
  },
  {
   "cell_type": "code",
   "execution_count": 9,
   "id": "e24f6df1",
   "metadata": {},
   "outputs": [
    {
     "name": "stdout",
     "output_type": "stream",
     "text": [
      "Requirement already satisfied: numpy in ./venv/lib/python3.11/site-packages (1.24.3)\r\n"
     ]
    }
   ],
   "source": [
    "!pip install numpy"
   ]
  }
 ],
 "metadata": {
  "kernelspec": {
   "display_name": "Python 3 (ipykernel)",
   "language": "python",
   "name": "python3"
  },
  "language_info": {
   "codemirror_mode": {
    "name": "ipython",
    "version": 3
   },
   "file_extension": ".py",
   "mimetype": "text/x-python",
   "name": "python",
   "nbconvert_exporter": "python",
   "pygments_lexer": "ipython3",
   "version": "3.11.2"
  },
  "varInspector": {
   "cols": {
    "lenName": 16,
    "lenType": 16,
    "lenVar": 40
   },
   "kernels_config": {
    "python": {
     "delete_cmd_postfix": "",
     "delete_cmd_prefix": "del ",
     "library": "var_list.py",
     "varRefreshCmd": "print(var_dic_list())"
    },
    "r": {
     "delete_cmd_postfix": ") ",
     "delete_cmd_prefix": "rm(",
     "library": "var_list.r",
     "varRefreshCmd": "cat(var_dic_list()) "
    }
   },
   "types_to_exclude": [
    "module",
    "function",
    "builtin_function_or_method",
    "instance",
    "_Feature"
   ],
   "window_display": false
  }
 },
 "nbformat": 4,
 "nbformat_minor": 5
}
