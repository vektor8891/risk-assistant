{
 "cells": [
  {
   "cell_type": "code",
   "execution_count": 14,
   "id": "835154bf",
   "metadata": {},
   "outputs": [],
   "source": [
    "# How many employees does the company have?\n",
    "employees = 100\n",
    "\n",
    "# How many days are we calculating the loss?\n",
    "days = 365\n",
    "\n",
    "# On average how many emails does each employee receive weekly?\n",
    "phishing_emails_per_week = 1\n",
    "\n",
    "# How many of the phishing emails do employees click?\n",
    "click_rate = 0.1\n",
    "\n",
    "# How much money do we expect to lose with each click?\n",
    "loss_per_click = 1000"
   ]
  },
  {
   "cell_type": "code",
   "execution_count": 23,
   "id": "77fcdafb",
   "metadata": {},
   "outputs": [],
   "source": [
    "import pandas as pd\n",
    "import numpy as np\n",
    "\n",
    "# Number of simulations\n",
    "simulations = 1000\n",
    "\n",
    "# Set the random seed for reproducibility\n",
    "np.random.seed(42)\n",
    "\n",
    "# Define the parameters for the Poisson process\n",
    "lambda_ = phishing_emails_per_week / 7  # convert rate to days\n",
    "total_time = days  # Total time for the process\n",
    "\n",
    "# Generate the time intervals between events\n",
    "time_intervals = np.random.exponential(scale=1/lambda_, size=int(lambda_ * total_time))\n",
    "\n",
    "# Calculate the cumulative sum of time intervals to get event times\n",
    "event_times = np.cumsum(time_intervals)\n",
    "\n",
    "# Create a pandas DataFrame to store the event times\n",
    "df = pd.DataFrame({'Event Time': event_times})\n",
    "\n",
    "# Display the DataFrame\n",
    "# print(df)"
   ]
  },
  {
   "cell_type": "code",
   "execution_count": null,
   "id": "f9263357",
   "metadata": {},
   "outputs": [],
   "source": []
  }
 ],
 "metadata": {
  "kernelspec": {
   "display_name": "Python 3 (ipykernel)",
   "language": "python",
   "name": "python3"
  },
  "language_info": {
   "codemirror_mode": {
    "name": "ipython",
    "version": 3
   },
   "file_extension": ".py",
   "mimetype": "text/x-python",
   "name": "python",
   "nbconvert_exporter": "python",
   "pygments_lexer": "ipython3",
   "version": "3.11.2"
  },
  "varInspector": {
   "cols": {
    "lenName": 16,
    "lenType": 16,
    "lenVar": 40
   },
   "kernels_config": {
    "python": {
     "delete_cmd_postfix": "",
     "delete_cmd_prefix": "del ",
     "library": "var_list.py",
     "varRefreshCmd": "print(var_dic_list())"
    },
    "r": {
     "delete_cmd_postfix": ") ",
     "delete_cmd_prefix": "rm(",
     "library": "var_list.r",
     "varRefreshCmd": "cat(var_dic_list()) "
    }
   },
   "types_to_exclude": [
    "module",
    "function",
    "builtin_function_or_method",
    "instance",
    "_Feature"
   ],
   "window_display": false
  }
 },
 "nbformat": 4,
 "nbformat_minor": 5
}
