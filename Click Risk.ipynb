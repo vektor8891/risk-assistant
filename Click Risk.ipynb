{
 "cells": [
  {
   "cell_type": "code",
   "execution_count": 54,
   "id": "835154bf",
   "metadata": {},
   "outputs": [],
   "source": [
    "# How many employees does the company have?\n",
    "n_employees = 100\n",
    "\n",
    "# How many days are we calculating the loss?\n",
    "n_days = 365\n",
    "\n",
    "# On average how many phishing emails does each employee receive weekly?\n",
    "n_phishing_emails_per_week = 1\n",
    "\n",
    "# How many of the phishing emails do employees click?\n",
    "click_rate = 0.1\n",
    "\n",
    "# How much money do we expect to lose with each click?\n",
    "loss_per_click = 1000"
   ]
  },
  {
   "cell_type": "code",
   "execution_count": 55,
   "id": "77fcdafb",
   "metadata": {},
   "outputs": [],
   "source": [
    "# estimated loss due to clicking on phishing emails for a single employee\n",
    "def employee_click_loss(n_days,\n",
    "                        n_phishing_emails_per_week,\n",
    "                        click_rate,\n",
    "                        loss_per_click,\n",
    "                        random_seed=None):\n",
    "    import pandas as pd\n",
    "    import numpy as np\n",
    "    import random as rn\n",
    "\n",
    "    # Set the random seed if provided\n",
    "    if random_seed is not None:\n",
    "        np.random.seed(random_seed)\n",
    "\n",
    "    # Define the parameters for the the exponential distribution\n",
    "    lambda_ = n_phishing_emails_per_week / 7  # convert rate to days\n",
    "\n",
    "    # Generate the time intervals between phishing emails\n",
    "    time_intervals = np.random.exponential(scale=1 / lambda_,\n",
    "                                           size=int(lambda_ * n_days * 1.1))\n",
    "\n",
    "    # Calculate the email arrival times as the cumulative sum of time intervals\n",
    "    event_times = np.cumsum(time_intervals)\n",
    "\n",
    "    # Select those event times that are within the time horizon\n",
    "    valid_times = [\n",
    "        event_time for event_time in event_times if event_time <= n_days\n",
    "    ]\n",
    "\n",
    "    # Calculate which days the emails arrived\n",
    "    event_days = np.round(valid_times).astype(int)\n",
    "\n",
    "    # Replicate probabilities\n",
    "    click_rates = np.full(len(event_days), click_rate)\n",
    "\n",
    "    # Select which emails the employee opened\n",
    "    emails_opened = [\n",
    "        event_day for event_day, click_rate in zip(event_days, click_rates)\n",
    "        if rn.random() < click_rate\n",
    "    ]\n",
    "\n",
    "    # Calculate loss\n",
    "    loss = len(emails_opened) * loss_per_click\n",
    "\n",
    "    return {\n",
    "        \"time_intervals\": time_intervals,\n",
    "        \"event_times\": event_times,\n",
    "        \"event_days\": event_days,\n",
    "        \"click_rates\": click_rates,\n",
    "        \"emails_opened\": emails_opened,\n",
    "        \"loss\": loss\n",
    "    }\n",
    "\n",
    "\n",
    "# simulate total loss due to clicking on phishing emails for the company\n",
    "def company_click_loss(n_employees,\n",
    "                       n_days,\n",
    "                       n_phishing_emails_per_week,\n",
    "                       click_rate,\n",
    "                       loss_per_click,\n",
    "                       n_simulations,\n",
    "                       random_seed=None):\n",
    "\n",
    "    import matplotlib.pyplot as plt\n",
    "\n",
    "    # calculate total loss\n",
    "    company_loss = []\n",
    "    for simulation in range(n_simulations):\n",
    "        total_loss = 0\n",
    "        for employee in range(n_employees):\n",
    "            employee_loss = employee_click_loss(\n",
    "                n_days=n_days,\n",
    "                n_phishing_emails_per_week=n_phishing_emails_per_week,\n",
    "                click_rate=click_rate,\n",
    "                loss_per_click=loss_per_click,\n",
    "                random_seed=random_seed)\n",
    "            total_loss += employee_loss['loss']\n",
    "        company_loss.append(total_loss)\n",
    "\n",
    "    # plot histogram\n",
    "    plt.hist(company_loss)\n",
    "    plt.xlabel('Total loss')\n",
    "    plt.ylabel('Frequency')\n",
    "    plt.title('Phishing Risk Simulation')\n",
    "    plt.show()\n",
    "\n",
    "    return {\"company_loss\": company_loss, \"plot\": plt}"
   ]
  },
  {
   "cell_type": "code",
   "execution_count": 56,
   "id": "5243d1b5",
   "metadata": {},
   "outputs": [
    {
     "data": {
      "image/png": "[encoded data removed]",
      "text/plain": [
       "<Figure size 640x480 with 1 Axes>"
      ]
     },
     "metadata": {},
     "output_type": "display_data"
    }
   ],
   "source": [
    "company_loss = company_click_loss(\n",
    "    n_employees=n_employees,\n",
    "    n_days=n_days,\n",
    "    n_phishing_emails_per_week=n_phishing_emails_per_week,\n",
    "    click_rate=click_rate,\n",
    "    loss_per_click=loss_per_click,\n",
    "    n_simulations=1000,\n",
    "    random_seed=None)"
   ]
  }
 ],
 "metadata": {
  "kernelspec": {
   "display_name": "Python 3 (ipykernel)",
   "language": "python",
   "name": "python3"
  },
  "language_info": {
   "codemirror_mode": {
    "name": "ipython",
    "version": 3
   },
   "file_extension": ".py",
   "mimetype": "text/x-python",
   "name": "python",
   "nbconvert_exporter": "python",
   "pygments_lexer": "ipython3",
   "version": "3.11.2"
  },
  "varInspector": {
   "cols": {
    "lenName": 16,
    "lenType": 16,
    "lenVar": 40
   },
   "kernels_config": {
    "python": {
     "delete_cmd_postfix": "",
     "delete_cmd_prefix": "del ",
     "library": "var_list.py",
     "varRefreshCmd": "print(var_dic_list())"
    },
    "r": {
     "delete_cmd_postfix": ") ",
     "delete_cmd_prefix": "rm(",
     "library": "var_list.r",
     "varRefreshCmd": "cat(var_dic_list()) "
    }
   },
   "types_to_exclude": [
    "module",
    "function",
    "builtin_function_or_method",
    "instance",
    "_Feature"
   ],
   "window_display": false
  }
 },
 "nbformat": 4,
 "nbformat_minor": 5
}
