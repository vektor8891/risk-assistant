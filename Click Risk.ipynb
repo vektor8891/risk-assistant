{
 "cells": [
  {
   "cell_type": "code",
   "execution_count": 26,
   "id": "835154bf",
   "metadata": {},
   "outputs": [],
   "source": [
    "# How many employees does the company have?\n",
    "employees = 100\n",
    "\n",
    "# How many days are we calculating the loss?\n",
    "days = 365\n",
    "\n",
    "# On average how many emails does each employee receive weekly?\n",
    "phishing_emails_per_week = 1\n",
    "\n",
    "# How many of the phishing emails do employees click?\n",
    "click_rate = 0.1\n",
    "\n",
    "# How much money do we expect to lose with each click?\n",
    "loss_per_click = 1000"
   ]
  },
  {
   "cell_type": "code",
   "execution_count": 142,
   "id": "77fcdafb",
   "metadata": {},
   "outputs": [
    {
     "name": "stdout",
     "output_type": "stream",
     "text": [
      "Phishing emails received on days:\n",
      "[ 23  23  26  27  40  41  43  44  46  63  89 106 111 112 118 120 125 132\n",
      " 143 145 149 151 168 183 185 187 189 190 194 196 199 202 212 214 227 228\n",
      " 230 239 247 263 271 273 277 282 291 301 303 309 312 317 322 327 343 347]\n",
      "\n",
      "Employee clicked on email on days:\n",
      "[168, 202, 312]\n",
      "\n",
      "Total loss:\n",
      "3000\n"
     ]
    }
   ],
   "source": [
    "# estimate loss due to clicking on phishing emails for a single employee\n",
    "def employee_click_loss(n_days,\n",
    "                        n_emails_per_week,\n",
    "                        click_rate,\n",
    "                        loss_per_click,\n",
    "                        random_seed=None):\n",
    "    import pandas as pd\n",
    "    import numpy as np\n",
    "    import random as rn\n",
    "\n",
    "    # Set the random seed if provided\n",
    "    if random_seed is not None:\n",
    "        np.random.seed(random_seed)\n",
    "\n",
    "    # Define the parameters for the the exponential distribution\n",
    "    lambda_ = n_emails_per_week / 7  # convert rate to days\n",
    "\n",
    "    # Generate the time intervals between phishing emails\n",
    "    time_intervals = np.random.exponential(scale=1 / lambda_,\n",
    "                                           size=int(lambda_ * n_days * 1.1))\n",
    "\n",
    "    # Calculate the email arrival times as the cumulative sum of time intervals\n",
    "    event_times = np.cumsum(time_intervals)\n",
    "\n",
    "    # Select those event times that are within the time horizon\n",
    "    valid_times = [\n",
    "        event_time for event_time in event_times if event_time <= n_days\n",
    "    ]\n",
    "\n",
    "    # Calculate which days the emails arrived\n",
    "    event_days = np.round(valid_times).astype(int)\n",
    "\n",
    "    # Replicate probabilities\n",
    "    click_rates = np.full(len(event_days), click_rate)\n",
    "\n",
    "    # Select which emails the employee opened\n",
    "    emails_opened = [\n",
    "        event_day for event_day, click_rate in zip(event_days, click_rates)\n",
    "        if rn.random() < click_rate\n",
    "    ]\n",
    "\n",
    "    # Calculate loss\n",
    "    loss = len(emails_opened) * loss_per_click\n",
    "\n",
    "    return {\n",
    "        \"time_intervals\": time_intervals,\n",
    "        \"event_times\": event_times,\n",
    "        \"event_days\": event_days,\n",
    "        \"click_rates\": click_rates,\n",
    "        \"emails_opened\": emails_opened,\n",
    "        \"loss\": loss\n",
    "    }\n",
    "\n",
    "\n",
    "click_loss = employee_click_loss(n_days=days,\n",
    "                                 n_emails_per_week=phishing_emails_per_week,\n",
    "                                 click_rate=click_rate,\n",
    "                                 loss_per_click=loss_per_click)\n",
    "\n",
    "print(\"Phishing emails received on days:\")\n",
    "print(click_loss['event_days'])\n",
    "\n",
    "print(\"\\nEmployee clicked on email on days:\")\n",
    "print(click_loss['emails_opened'])\n",
    "\n",
    "print(\"\\nTotal loss:\")\n",
    "print(click_loss['loss'])"
   ]
  }
 ],
 "metadata": {
  "kernelspec": {
   "display_name": "Python 3 (ipykernel)",
   "language": "python",
   "name": "python3"
  },
  "language_info": {
   "codemirror_mode": {
    "name": "ipython",
    "version": 3
   },
   "file_extension": ".py",
   "mimetype": "text/x-python",
   "name": "python",
   "nbconvert_exporter": "python",
   "pygments_lexer": "ipython3",
   "version": "3.11.2"
  },
  "varInspector": {
   "cols": {
    "lenName": 16,
    "lenType": 16,
    "lenVar": 40
   },
   "kernels_config": {
    "python": {
     "delete_cmd_postfix": "",
     "delete_cmd_prefix": "del ",
     "library": "var_list.py",
     "varRefreshCmd": "print(var_dic_list())"
    },
    "r": {
     "delete_cmd_postfix": ") ",
     "delete_cmd_prefix": "rm(",
     "library": "var_list.r",
     "varRefreshCmd": "cat(var_dic_list()) "
    }
   },
   "types_to_exclude": [
    "module",
    "function",
    "builtin_function_or_method",
    "instance",
    "_Feature"
   ],
   "window_display": false
  }
 },
 "nbformat": 4,
 "nbformat_minor": 5
}
